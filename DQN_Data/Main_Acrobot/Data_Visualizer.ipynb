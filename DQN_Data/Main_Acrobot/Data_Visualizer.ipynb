{
 "cells": [
  {
   "cell_type": "markdown",
   "metadata": {},
   "source": [
    "# Data Visualizer\n",
    "## Acrobot- Main 8 Variations"
   ]
  },
  {
   "cell_type": "code",
   "execution_count": 1,
   "metadata": {},
   "outputs": [],
   "source": [
    "import hickle as hkl\n",
    "import matplotlib.pyplot as plt\n",
    "import numpy as np"
   ]
  },
  {
   "cell_type": "code",
   "execution_count": 2,
   "metadata": {},
   "outputs": [],
   "source": [
    "sibling_lives1,sibling_scores1,time_1 = hkl.load('Data_Acrobot_1')\n",
    "sibling_lives2,sibling_scores2,time_2 = hkl.load('Data_Acrobot_2')\n",
    "sibling_lives3,sibling_scores3,time_3 = hkl.load('Data_Acrobot_3')\n",
    "sibling_lives4,sibling_scores4,time_4 = hkl.load('Data_Acrobot_4')\n",
    "sibling_lives5,sibling_scores5,time_5 = hkl.load('Data_Acrobot_5')\n",
    "sibling_lives6,sibling_scores6,time_6 = hkl.load('Data_Acrobot_6')\n",
    "sibling_lives7,sibling_scores7,time_7 = hkl.load('Data_Acrobot_7')\n",
    "sibling_lives8,sibling_scores8,time_8 = hkl.load('Data_Acrobot_8')"
   ]
  },
  {
   "cell_type": "code",
   "execution_count": 3,
   "metadata": {},
   "outputs": [
    {
     "data": {
      "text/html": [
       "<style>.container { width:100% !important; }</style>"
      ],
      "text/plain": [
       "<IPython.core.display.HTML object>"
      ]
     },
     "metadata": {},
     "output_type": "display_data"
    }
   ],
   "source": [
    "from IPython.core.display import display, HTML\n",
    "display(HTML(\"<style>.container { width:100% !important; }</style>\"))"
   ]
  },
  {
   "cell_type": "code",
   "execution_count": 4,
   "metadata": {},
   "outputs": [
    {
     "data": {
      "image/png": "[encoded data removed]",
      "text/plain": [
       "<Figure size 864x576 with 1 Axes>"
      ]
     },
     "metadata": {
      "needs_background": "light"
     },
     "output_type": "display_data"
    }
   ],
   "source": [
    "\n",
    "\n",
    "# set width of bar\n",
    "barWidth = 0.25\n",
    "fig = plt.subplots(figsize =(12, 8))\n",
    " \n",
    "# set height of bar\n",
    "#episodes_mean = [np.mean(sibling_lives1),np.mean(sibling_lives2),'''np.mean(sibling_lives3)''',np.mean(sibling_lives4),np.mean(sibling_lives5),np.mean(sibling_lives6)''',np.mean(sibling_lives7)''',np.mean(sibling_lives8)]\n",
    "episodes_mean = [np.mean(sibling_lives1),np.mean(sibling_lives2),np.mean(sibling_lives3),np.mean(sibling_lives4),np.mean(sibling_lives5),np.mean(sibling_lives6),np.mean(sibling_lives7),np.mean(sibling_lives8)]\n",
    "#episodes_std = [np.std(sibling_lives1),np.std(sibling_lives2),'''np.std(sibling_lives3)''',np.std(sibling_lives4),np.std(sibling_lives5),np.std(sibling_lives5),np.std(sibling_lives6),np.std(sibling_lives7),np.std(sibling_lives8)]\n",
    "episodes_std = [np.std(sibling_lives1),np.std(sibling_lives2),np.std(sibling_lives3),np.std(sibling_lives4),np.std(sibling_lives5),np.std(sibling_lives6),np.std(sibling_lives7),np.std(sibling_lives8)]\n",
    "\n",
    "# Set position of bar on X axis\n",
    "br1 = np.arange(8)\n",
    "br2 = [x + barWidth for x in br1]\n",
    " \n",
    "# Make the plot\n",
    "plt.bar(br1, episodes_mean, color ='r', width = barWidth,\n",
    "        edgecolor ='grey', label ='Mean')\n",
    "plt.bar(br2, episodes_std, color ='g', width = barWidth,\n",
    "        edgecolor ='grey', label ='Standard Deviation')\n",
    " \n",
    "# Adding Xticks\n",
    "plt.xlabel('Variations', fontweight ='bold', fontsize = 10)\n",
    "plt.ylabel('Number of Episodes', fontweight ='bold', fontsize = 10)\n",
    "plt.xticks([r + barWidth for r in range(8)],\n",
    "        ['+Q +E +T','+Q +E -T','+Q -E +T','+Q -E -T','-Q +E +T','-Q +E -T','-Q -E +T','-Q -E -T'],fontsize = 15)\n",
    " \n",
    "plt.legend()\n",
    "plt.show()"
   ]
  },
  {
   "cell_type": "code",
   "execution_count": null,
   "metadata": {},
   "outputs": [],
   "source": []
  }
 ],
 "metadata": {
  "kernelspec": {
   "display_name": "rl",
   "language": "python",
   "name": "rl"
  },
  "language_info": {
   "codemirror_mode": {
    "name": "ipython",
    "version": 3
   },
   "file_extension": ".py",
   "mimetype": "text/x-python",
   "name": "python",
   "nbconvert_exporter": "python",
   "pygments_lexer": "ipython3",
   "version": "3.8.5"
  }
 },
 "nbformat": 4,
 "nbformat_minor": 5
}
